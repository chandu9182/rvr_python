{
 "cells": [
  {
   "cell_type": "code",
   "execution_count": 11,
   "metadata": {},
   "outputs": [
    {
     "name": "stdout",
     "output_type": "stream",
     "text": [
      "enter number10\n",
      "not perfect\n"
     ]
    }
   ],
   "source": [
    "n=int(input('enter number'))\n",
    "s=0\n",
    "for i in range(1,n):\n",
    "    if n%i==0:\n",
    "        s+=i\n",
    "if s==n:\n",
    "     print('perfect')\n",
    "else:\n",
    "    print('not perfect')"
   ]
  },
  {
   "cell_type": "code",
   "execution_count": 8,
   "metadata": {},
   "outputs": [
    {
     "name": "stdout",
     "output_type": "stream",
     "text": [
      "entertables upto22\n",
      "enter table length12\n",
      "someting\n",
      "someting\n",
      "someting\n",
      "someting\n",
      "someting\n",
      "someting\n",
      "someting\n",
      "someting\n",
      "someting\n",
      "someting\n",
      "someting\n",
      "someting\n"
     ]
    }
   ],
   "source": [
    "t=int(input('entertables upto'))\n",
    "t_len=int(input('enter table length'))\n",
    "for i in range(1,t_len+1):\n",
    "    print('someting')"
   ]
  },
  {
   "cell_type": "code",
   "execution_count": 18,
   "metadata": {},
   "outputs": [
    {
     "name": "stdout",
     "output_type": "stream",
     "text": [
      "10987654321"
     ]
    }
   ],
   "source": [
    "for i in range(10,0,-1):\n",
    "    print(i,end='')\n"
   ]
  },
  {
   "cell_type": "code",
   "execution_count": 2,
   "metadata": {},
   "outputs": [
    {
     "ename": "SyntaxError",
     "evalue": "invalid syntax (<ipython-input-2-98fb7e0e13ba>, line 1)",
     "output_type": "error",
     "traceback": [
      "\u001b[1;36m  File \u001b[1;32m\"<ipython-input-2-98fb7e0e13ba>\"\u001b[1;36m, line \u001b[1;32m1\u001b[0m\n\u001b[1;33m    i=10:\u001b[0m\n\u001b[1;37m        ^\u001b[0m\n\u001b[1;31mSyntaxError\u001b[0m\u001b[1;31m:\u001b[0m invalid syntax\n"
     ]
    }
   ],
   "source": [
    "i=10:\n",
    "    while i>10:\n",
    "        print(i,end='')\n",
    "        i+=1"
   ]
  },
  {
   "cell_type": "code",
   "execution_count": 7,
   "metadata": {},
   "outputs": [
    {
     "name": "stdout",
     "output_type": "stream",
     "text": [
      "1 2 3 4 6 7 8 9 "
     ]
    }
   ],
   "source": [
    "#break\n",
    "#continue\n",
    "\n",
    "for i in range(1,10):\n",
    "    if i==5:\n",
    "        continue\n",
    "    print(i,end=\" \")\n",
    "     \n",
    "    "
   ]
  },
  {
   "cell_type": "markdown",
   "metadata": {},
   "source": [
    "### functions:\n",
    "group of statements\n",
    "uses:\n",
    " - code reusability\n",
    " - readability of program\n",
    " - code reduce\n",
    " - time decrease\n",
    "- types of functions:\n",
    "  - inbuit/default functions\n",
    "     - ex \"print , sum\"\n",
    "  - user define functions\n",
    "     - 1.function creation\n",
    "           i. function declaration:\n",
    "           def function name(arg)\n",
    "           2.function definition:\n",
    "           statements:\n",
    "      - 2. function calling:\n",
    "              by using function name\n",
    "  - special function\n",
    "    - lamda , comprehensions,iterators"
   ]
  },
  {
   "cell_type": "code",
   "execution_count": 24,
   "metadata": {},
   "outputs": [
    {
     "name": "stdout",
     "output_type": "stream",
     "text": [
      "9\n",
      "None\n"
     ]
    }
   ],
   "source": [
    "#function creation:\n",
    "def add(a,b):\n",
    "    print(a+b)\n",
    "    return \n",
    "a=add(4,5)\n",
    "print(a)\n",
    " "
   ]
  },
  {
   "cell_type": "code",
   "execution_count": 14,
   "metadata": {},
   "outputs": [
    {
     "name": "stdout",
     "output_type": "stream",
     "text": [
      "1\n"
     ]
    }
   ],
   "source": [
    "def sub(a,b):\n",
    "    print(a-b)\n",
    "sub(3,2)"
   ]
  },
  {
   "cell_type": "markdown",
   "metadata": {},
   "source": [
    "# types of user define function:\n",
    "based on return value\n",
    "#1 without argument without return value\n",
    "#2 without argument with return value \n",
    "#3 with argument without return value\n",
    "#4 with argument with return value\n"
   ]
  },
  {
   "cell_type": "code",
   "execution_count": 20,
   "metadata": {},
   "outputs": [
    {
     "name": "stdout",
     "output_type": "stream",
     "text": [
      "enter n value2\n",
      "factor of 10\n",
      "enter n value3\n",
      "not factor of 10\n",
      "n\n"
     ]
    }
   ],
   "source": [
    "#1 without arg without return vcalue\n",
    "def f1():\n",
    "    n=int(input('enter n value'))\n",
    "    if 10%n==0:\n",
    "        print('factor of 10')\n",
    "    else:\n",
    "        print('not factor of 10')\n",
    "f1()\n",
    "f1()\n",
    "print(\"n\")"
   ]
  },
  {
   "cell_type": "code",
   "execution_count": 36,
   "metadata": {},
   "outputs": [
    {
     "ename": "SyntaxError",
     "evalue": "invalid syntax (<ipython-input-36-ed88fceb5ce6>, line 6)",
     "output_type": "error",
     "traceback": [
      "\u001b[1;36m  File \u001b[1;32m\"<ipython-input-36-ed88fceb5ce6>\"\u001b[1;36m, line \u001b[1;32m6\u001b[0m\n\u001b[1;33m    print('addition is'n1+n2)\u001b[0m\n\u001b[1;37m                        ^\u001b[0m\n\u001b[1;31mSyntaxError\u001b[0m\u001b[1;31m:\u001b[0m invalid syntax\n"
     ]
    }
   ],
   "source": [
    "# without arg with return value\n",
    "def f2():\n",
    "    n1=int(input('enter n1 value'))\n",
    "    n2=int(input('enter n2 value'))\n",
    "    return n1+n2\n",
    "print('addition is'n1+n2)\n",
    "f2()"
   ]
  },
  {
   "cell_type": "code",
   "execution_count": null,
   "metadata": {},
   "outputs": [],
   "source": []
  },
  {
   "cell_type": "code",
   "execution_count": null,
   "metadata": {},
   "outputs": [],
   "source": []
  }
 ],
 "metadata": {
  "kernelspec": {
   "display_name": "Python 3",
   "language": "python",
   "name": "python3"
  },
  "language_info": {
   "codemirror_mode": {
    "name": "ipython",
    "version": 3
   },
   "file_extension": ".py",
   "mimetype": "text/x-python",
   "name": "python",
   "nbconvert_exporter": "python",
   "pygments_lexer": "ipython3",
   "version": "3.7.4"
  }
 },
 "nbformat": 4,
 "nbformat_minor": 2
}
