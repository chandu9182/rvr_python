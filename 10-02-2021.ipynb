{
 "cells": [
  {
   "cell_type": "code",
   "execution_count": null,
   "metadata": {},
   "outputs": [],
   "source": [
    "### file handling\n",
    "- what is a file?\n",
    "  - collection of records\n",
    "  - store the data\n",
    "###  file operators\n",
    " - open() -open('file a name', 'mode')\n",
    " - reada() - read the data in a file\n",
    " - write() - to write a data into a file\n",
    " - append() - to add the data into a file\n",
    " - close() - close the file\n",
    " \n",
    " ### modes \n",
    " - read mode - r\n",
    " - write mode - w\n",
    " -append mode-a\n"
   ]
  },
  {
   "cell_type": "code",
   "execution_count": 6,
   "metadata": {},
   "outputs": [
    {
     "name": "stdout",
     "output_type": "stream",
     "text": [
      "<_io.TextIOWrapper name='file.txt' mode='r' encoding='cp1252'>\n"
     ]
    }
   ],
   "source": [
    "# open a file\n",
    "f=open('file.txt','r')\n",
    "print(f)"
   ]
  },
  {
   "cell_type": "code",
   "execution_count": 10,
   "metadata": {},
   "outputs": [
    {
     "name": "stdout",
     "output_type": "stream",
     "text": [
      "new file \n",
      "python django\n"
     ]
    }
   ],
   "source": [
    "# read the data\n",
    "f=open('file.txt','r')\n",
    "f1=f.read()\n",
    "print(f1)"
   ]
  },
  {
   "cell_type": "code",
   "execution_count": 13,
   "metadata": {},
   "outputs": [
    {
     "name": "stdout",
     "output_type": "stream",
     "text": [
      "a=-10\n",
      "b=20\n",
      "c=a+b\n",
      "print(c)\n"
     ]
    }
   ],
   "source": [
    "# read the data\n",
    "f=open('demo  file.py','r')\n",
    "f1=f.read()\n",
    "print(f1)"
   ]
  },
  {
   "cell_type": "code",
   "execution_count": 18,
   "metadata": {},
   "outputs": [
    {
     "name": "stdout",
     "output_type": "stream",
     "text": [
      "13\n"
     ]
    }
   ],
   "source": [
    "### write\n",
    "f=open('demo  file.py','w')\n",
    "data=\"chandu rvr jc\"\n",
    "f1=f.write(data)\n",
    "f.close()\n",
    "print(f1)\n"
   ]
  },
  {
   "cell_type": "code",
   "execution_count": 25,
   "metadata": {},
   "outputs": [
    {
     "data": {
      "text/plain": [
       "'chandu rvr jc'"
      ]
     },
     "execution_count": 25,
     "metadata": {},
     "output_type": "execute_result"
    }
   ],
   "source": [
    "f=open('demo  file.py')\n",
    "f2=f.read()\n",
    "f2"
   ]
  },
  {
   "cell_type": "code",
   "execution_count": 30,
   "metadata": {},
   "outputs": [
    {
     "name": "stdout",
     "output_type": "stream",
     "text": [
      "append the data into file\n"
     ]
    }
   ],
   "source": [
    "f=open('demo  file.py','a')\n",
    "f3=f.write(' ece ')\n",
    "f.close()\n",
    "print(\"append the data into file\")"
   ]
  },
  {
   "cell_type": "code",
   "execution_count": 34,
   "metadata": {},
   "outputs": [
    {
     "name": "stdout",
     "output_type": "stream",
     "text": [
      "<_io.TextIOWrapper name='demo1.java' mode='r' encoding='cp1252'>\n"
     ]
    }
   ],
   "source": [
    "f3=open('demo1.java','r')\n",
    "print(f3)\n"
   ]
  },
  {
   "cell_type": "code",
   "execution_count": 47,
   "metadata": {},
   "outputs": [
    {
     "name": "stdout",
     "output_type": "stream",
     "text": [
      "  apssdc  college: rvrjc\n"
     ]
    }
   ],
   "source": [
    "f3=open('demo1.java','r')\n",
    "f4=f3.read()\n",
    "print(f4)"
   ]
  },
  {
   "cell_type": "code",
   "execution_count": 46,
   "metadata": {},
   "outputs": [
    {
     "name": "stdout",
     "output_type": "stream",
     "text": [
      "append data\n"
     ]
    }
   ],
   "source": [
    "f3=open('demo1.java','a')\n",
    "f5=f3.write('college: rvrjc')\n",
    "f3.close()\n",
    "print('append data')"
   ]
  },
  {
   "cell_type": "code",
   "execution_count": 45,
   "metadata": {},
   "outputs": [
    {
     "name": "stdout",
     "output_type": "stream",
     "text": [
      "append\n"
     ]
    }
   ],
   "source": [
    "# with oout close a file\n",
    "with open('demo1.java','a') as chan:\n",
    "    data='  apssdc  '\n",
    "    chan.write(data)\n",
    "    print('append')"
   ]
  },
  {
   "cell_type": "code",
   "execution_count": 52,
   "metadata": {},
   "outputs": [
    {
     "ename": "SyntaxError",
     "evalue": "EOL while scanning string literal (<ipython-input-52-6a2ed533bbe3>, line 1)",
     "output_type": "error",
     "traceback": [
      "\u001b[1;36m  File \u001b[1;32m\"<ipython-input-52-6a2ed533bbe3>\"\u001b[1;36m, line \u001b[1;32m1\u001b[0m\n\u001b[1;33m    f111=open('python Libraries for Data Science\",'r')\u001b[0m\n\u001b[1;37m                                                      ^\u001b[0m\n\u001b[1;31mSyntaxError\u001b[0m\u001b[1;31m:\u001b[0m EOL while scanning string literal\n"
     ]
    }
   ],
   "source": [
    "f111=open('python Libraries for Data Science\",'r')\n",
    "f22=f111.read()\n",
    "print(b)"
   ]
  },
  {
   "cell_type": "code",
   "execution_count": null,
   "metadata": {},
   "outputs": [],
   "source": []
  }
 ],
 "metadata": {
  "kernelspec": {
   "display_name": "Python 3",
   "language": "python",
   "name": "python3"
  },
  "language_info": {
   "codemirror_mode": {
    "name": "ipython",
    "version": 3
   },
   "file_extension": ".py",
   "mimetype": "text/x-python",
   "name": "python",
   "nbconvert_exporter": "python",
   "pygments_lexer": "ipython3",
   "version": "3.7.4"
  }
 },
 "nbformat": 4,
 "nbformat_minor": 2
}
